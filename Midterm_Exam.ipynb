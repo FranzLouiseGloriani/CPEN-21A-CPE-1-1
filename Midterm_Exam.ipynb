{
  "nbformat": 4,
  "nbformat_minor": 0,
  "metadata": {
    "colab": {
      "name": "Midterm Exam.ipynb",
      "provenance": [],
      "collapsed_sections": [],
      "authorship_tag": "ABX9TyPXM43qIBQEvd4UdcFNUf2j",
      "include_colab_link": true
    },
    "kernelspec": {
      "name": "python3",
      "display_name": "Python 3"
    },
    "language_info": {
      "name": "python"
    }
  },
  "cells": [
    {
      "cell_type": "markdown",
      "metadata": {
        "id": "view-in-github",
        "colab_type": "text"
      },
      "source": [
        "<a href=\"https://colab.research.google.com/github/FranzLouiseGloriani/CPEN-21A-CPE-1-1/blob/main/Midterm_Exam.ipynb\" target=\"_parent\"><img src=\"https://colab.research.google.com/assets/colab-badge.svg\" alt=\"Open In Colab\"/></a>"
      ]
    },
    {
      "cell_type": "markdown",
      "metadata": {
        "id": "aEgaRHYeizdy"
      },
      "source": [
        "##PROBLEM STATEMENT 1.\n",
        "Provide your necessary information below using python codes. (20 points)\n"
      ]
    },
    {
      "cell_type": "code",
      "metadata": {
        "colab": {
          "base_uri": "https://localhost:8080/"
        },
        "id": "3mhM6PnDjdQ8",
        "outputId": "a83acffe-9ec5-4c8a-8207-fe0c52f033c7"
      },
      "source": [
        "def my_details():\n",
        "  fullName = \"Franz Louise B. Gloriani\"\n",
        "  studentNumber = 202101633\n",
        "  age = 18\n",
        "  birthday = \"January 8, 2003\"\n",
        "  address = \"Bailen, Cavite\"\n",
        "  course = \"BSCPE\"\n",
        "  lastsemGWA = 95\n",
        "  print(\"Name: \" + fullName)\n",
        "  print(\"Student Number: \" + (str(studentNumber)))\n",
        "  print(\"Age: \" + (str(age)))\n",
        "  print(\"Birthday: \" + birthday)\n",
        "  print(\"Address: \" + address)\n",
        "  print(\"Course: \" + course)\n",
        "  print(\"Last Sem GWA: \" + (str(lastsemGWA)))\n",
        "\n",
        "my_details()"
      ],
      "execution_count": 59,
      "outputs": [
        {
          "output_type": "stream",
          "name": "stdout",
          "text": [
            "Name: Franz Louise B. Gloriani\n",
            "Student Number: 202101633\n",
            "Age: 18\n",
            "Birthday: January 8, 2003\n",
            "Address: Bailen, Cavite\n",
            "Course: BSCPE\n",
            "Last Sem GWA: 95\n"
          ]
        }
      ]
    },
    {
      "cell_type": "markdown",
      "metadata": {
        "id": "XDDBCZsYj5fU"
      },
      "source": [
        "##PROBLEM STATEMENT 2. \n",
        "Suppose the numeric variable n has value 4 and has the string variable answ has value \"Y\". Determine whether each of the following conditions is true or false. (40 points)"
      ]
    },
    {
      "cell_type": "code",
      "metadata": {
        "colab": {
          "base_uri": "https://localhost:8080/"
        },
        "id": "0Flk3XX-kJza",
        "outputId": "f3541db8-3a26-43bd-a4b1-6fb305eb8ab3"
      },
      "source": [
        "n = 4\n",
        "answ = \"Y\"\n",
        "\n",
        "print((2<n)and(n<6))\n",
        "print((2<n)or(n==6))\n",
        "print((not(2<n)or(n==6)))\n",
        "print(not(n<6))\n",
        "print((answ==\"Y\")or(answ==\"y\"))\n",
        "print((answ==\"Y\")and(answ==\"y\"))\n",
        "print(not(answ==\"y\"))\n",
        "print((2<n)and(n==5+1)or(answ==\"No\"))\n",
        "print(((n==2)and(n==7))or(answ==\"Y\"))\n",
        "print((n==2)and((n==7)or(answ==\"Y\")))"
      ],
      "execution_count": 45,
      "outputs": [
        {
          "output_type": "stream",
          "name": "stdout",
          "text": [
            "True\n",
            "True\n",
            "False\n",
            "False\n",
            "True\n",
            "False\n",
            "True\n",
            "False\n",
            "True\n",
            "False\n"
          ]
        }
      ]
    },
    {
      "cell_type": "markdown",
      "metadata": {
        "id": "UH8z85sVlbV6"
      },
      "source": [
        "##PROBLEM STATEMENT 3. \n",
        "Write a Python program with the statements that computes and reports the results of each of he following arithmetic expressions. Initialize the following variable: x = 2, y = -3, w = 7, z = -10"
      ]
    },
    {
      "cell_type": "code",
      "metadata": {
        "colab": {
          "base_uri": "https://localhost:8080/"
        },
        "id": "cBQs2l78lo1z",
        "outputId": "2ab6bb11-5195-41c8-8d5a-5299743044c4"
      },
      "source": [
        "x = 2\n",
        "y = -3\n",
        "w =  7\n",
        "z = -10\n",
        "\n",
        "print(x/y)\n",
        "print(w/y/x)\n",
        "print(z/y%x)\n",
        "print(x%-y*w)\n",
        "print(x%y)\n",
        "print(z%w-y/x*5+5)\n",
        "print(9-x%(2+y))\n",
        "print(z//w)\n",
        "print((2+y)**2)\n",
        "print(w/x*2)"
      ],
      "execution_count": 44,
      "outputs": [
        {
          "output_type": "stream",
          "name": "stdout",
          "text": [
            "-0.6666666666666666\n",
            "-1.1666666666666667\n",
            "1.3333333333333335\n",
            "14\n",
            "-1\n",
            "16.5\n",
            "9\n",
            "-2\n",
            "1\n",
            "7.0\n"
          ]
        }
      ]
    }
  ]
}