{
  "nbformat": 4,
  "nbformat_minor": 0,
  "metadata": {
    "colab": {
      "name": "GUI.ipynb",
      "provenance": [],
      "collapsed_sections": [],
      "authorship_tag": "ABX9TyPzKPOf6D08AQ7oxWjgZG51",
      "include_colab_link": true
    },
    "kernelspec": {
      "name": "python3",
      "display_name": "Python 3"
    },
    "language_info": {
      "name": "python"
    }
  },
  "cells": [
    {
      "cell_type": "markdown",
      "metadata": {
        "id": "view-in-github",
        "colab_type": "text"
      },
      "source": [
        "<a href=\"https://colab.research.google.com/github/FranzLouiseGloriani/CPEN-21A-CPE-1-1/blob/main/GUI.ipynb\" target=\"_parent\"><img src=\"https://colab.research.google.com/assets/colab-badge.svg\" alt=\"Open In Colab\"/></a>"
      ]
    },
    {
      "cell_type": "markdown",
      "source": [
        "Student's Grade in OOP subject"
      ],
      "metadata": {
        "id": "Oo7rvWe6R4QL"
      }
    },
    {
      "cell_type": "code",
      "source": [
        "import math \n",
        "\n",
        "#@title Student's Grade in OOP\n",
        "Student_Name = \"Enter the Student name\" #@param{type:\"string\"}\n",
        "Prelim_Grade = 100#@param{type:\"integer\"}\n",
        "Midterm_Grade = 100#@param{type:\"integer\"}\n",
        "Final_Grade = 100#@param{type:\"integer\"}\n",
        "Semestral_Grade = round((Prelim_Grade + Midterm_Grade + Final_Grade)/3, 2)\n",
        "\n",
        "print(\"My prelim grade is \" + str(Prelim_Grade))\n",
        "print(\"My midterm grade is \" + str(Midterm_Grade))\n",
        "print(\"My final grade is \" + str(Final_Grade))\n",
        "print(\"My semestral grade is \" + str(Semestral_Grade))\n",
        "\n",
        "Gender = \"Male\" #@param[\"Male\", \"Female\"]\n",
        "BirthDate = \"2022-04-05\" #@param{type:\"date\"}\n",
        "\n",
        "print(\"My birthday is \" + BirthDate)"
      ],
      "metadata": {
        "colab": {
          "base_uri": "https://localhost:8080/"
        },
        "id": "hUpwCheZR7Fr",
        "outputId": "4aab9c51-e1fb-45d8-a5ef-6618b3e517bf"
      },
      "execution_count": 32,
      "outputs": [
        {
          "output_type": "stream",
          "name": "stdout",
          "text": [
            "My prelim grade is 100\n",
            "My midterm grade is 100\n",
            "My final grade is 100\n",
            "My semestral grade is 100.0\n",
            "My birthday is 2022-04-05\n"
          ]
        }
      ]
    },
    {
      "cell_type": "markdown",
      "source": [
        "Tklnter module - pycharm"
      ],
      "metadata": {
        "id": "lVDzqQrgYs54"
      }
    }
  ]
}