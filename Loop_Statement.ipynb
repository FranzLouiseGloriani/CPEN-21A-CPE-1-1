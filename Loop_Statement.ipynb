{
  "nbformat": 4,
  "nbformat_minor": 0,
  "metadata": {
    "colab": {
      "name": "Loop Statement.ipynb",
      "provenance": [],
      "collapsed_sections": [],
      "authorship_tag": "ABX9TyMvtzHM3JLWSU6U/yDrIT9O",
      "include_colab_link": true
    },
    "kernelspec": {
      "name": "python3",
      "display_name": "Python 3"
    },
    "language_info": {
      "name": "python"
    }
  },
  "cells": [
    {
      "cell_type": "markdown",
      "metadata": {
        "id": "view-in-github",
        "colab_type": "text"
      },
      "source": [
        "<a href=\"https://colab.research.google.com/github/FranzLouiseGloriani/CPEN-21A-CPE-1-1/blob/main/Loop_Statement.ipynb\" target=\"_parent\"><img src=\"https://colab.research.google.com/assets/colab-badge.svg\" alt=\"Open In Colab\"/></a>"
      ]
    },
    {
      "cell_type": "markdown",
      "source": [
        "##For Loop Statement"
      ],
      "metadata": {
        "id": "1zgMGqQ2sa4f"
      }
    },
    {
      "cell_type": "code",
      "source": [
        "week = [\"Sunday\", \"Monday\", \"Tuesday\", \"Wednesday\", \"Thursday\", \"Friday\", \"Saturday\"]\n",
        "\n",
        "print(week)"
      ],
      "metadata": {
        "colab": {
          "base_uri": "https://localhost:8080/"
        },
        "id": "CJY01s04raSz",
        "outputId": "80990f43-f6c2-44fc-9a74-76c22a7ce7c2"
      },
      "execution_count": 1,
      "outputs": [
        {
          "output_type": "stream",
          "name": "stdout",
          "text": [
            "['Sunday', 'Monday', 'Tuesday', 'Wednesday', 'Thursday', 'Friday', 'Saturday']\n"
          ]
        }
      ]
    },
    {
      "cell_type": "code",
      "source": [
        "week = [\"Sunday\", \"Monday\", \"Tuesday\", \"Wednesday\", \"Thursday\", \"Friday\", \"Saturday\"]\n",
        "\n",
        "for x in week:\n",
        "  print(x)"
      ],
      "metadata": {
        "colab": {
          "base_uri": "https://localhost:8080/"
        },
        "id": "ZHRjwp4lsJqw",
        "outputId": "e9598209-f9c7-4516-a8fa-677155791b32"
      },
      "execution_count": 2,
      "outputs": [
        {
          "output_type": "stream",
          "name": "stdout",
          "text": [
            "Sunday\n",
            "Monday\n",
            "Tuesday\n",
            "Wednesday\n",
            "Thursday\n",
            "Friday\n",
            "Saturday\n"
          ]
        }
      ]
    },
    {
      "cell_type": "code",
      "source": [
        "#Try lang po\n",
        "week = [\"Sunday\", \"Monday\", \"Tuesday\", \"Wednesday\", \"Thursday\", \"Friday\", \"Saturday\"]\n",
        "\n",
        "for day in week:\n",
        "  print(day)"
      ],
      "metadata": {
        "colab": {
          "base_uri": "https://localhost:8080/"
        },
        "id": "y_91PhrtsQNy",
        "outputId": "597288c4-01ca-4917-8460-61abddb617f0"
      },
      "execution_count": 3,
      "outputs": [
        {
          "output_type": "stream",
          "name": "stdout",
          "text": [
            "Sunday\n",
            "Monday\n",
            "Tuesday\n",
            "Wednesday\n",
            "Thursday\n",
            "Friday\n",
            "Saturday\n"
          ]
        }
      ]
    },
    {
      "cell_type": "markdown",
      "source": [
        "The break statement"
      ],
      "metadata": {
        "id": "suRaOFTSstL4"
      }
    },
    {
      "cell_type": "code",
      "source": [
        "week = [\"Sunday\", \"Monday\", \"Tuesday\", \"Wednesday\", \"Thursday\", \"Friday\", \"Saturday\"]\n",
        "\n",
        "for x in week:          #stop sa thursday\n",
        "  print(x)\n",
        "  if x==\"Thursday\":\n",
        "    break\n",
        "\n",
        "for day in week:        #Try lang po\n",
        "  print(day)\n",
        "  if day==\"Friday\":\n",
        "    break"
      ],
      "metadata": {
        "colab": {
          "base_uri": "https://localhost:8080/"
        },
        "id": "86TP3ZUsswCV",
        "outputId": "08a846d2-edb1-4120-d440-a28352b6045e"
      },
      "execution_count": 6,
      "outputs": [
        {
          "output_type": "stream",
          "name": "stdout",
          "text": [
            "Sunday\n",
            "Monday\n",
            "Tuesday\n",
            "Wednesday\n",
            "Thursday\n",
            "Sunday\n",
            "Monday\n",
            "Tuesday\n",
            "Wednesday\n",
            "Thursday\n",
            "Friday\n"
          ]
        }
      ]
    },
    {
      "cell_type": "code",
      "source": [
        "week = [\"Sunday\", \"Monday\", \"Tuesday\", \"Wednesday\", \"Thursday\", \"Friday\", \"Saturday\"]\n",
        "\n",
        "for x in week:          #Walang thursday\n",
        "  if x==\"Thursday\":\n",
        "    break\n",
        "  print(x)          "
      ],
      "metadata": {
        "colab": {
          "base_uri": "https://localhost:8080/"
        },
        "id": "dAKakqfwt8xQ",
        "outputId": "d1477f04-3ed1-4b8b-8845-eae0bedd09b4"
      },
      "execution_count": 13,
      "outputs": [
        {
          "output_type": "stream",
          "name": "stdout",
          "text": [
            "Sunday\n",
            "Monday\n",
            "Tuesday\n",
            "Wednesday\n"
          ]
        }
      ]
    },
    {
      "cell_type": "markdown",
      "source": [
        "Looping through a String"
      ],
      "metadata": {
        "id": "lb5aBUyhvD2u"
      }
    },
    {
      "cell_type": "code",
      "source": [
        "for x in \"week\":        #print ng characters of week which is w, e, e, k\n",
        "  print(x)"
      ],
      "metadata": {
        "colab": {
          "base_uri": "https://localhost:8080/"
        },
        "id": "IqXJU_dFvGU1",
        "outputId": "79e3679a-3e0f-46eb-ef21-893d7ffbf47f"
      },
      "execution_count": 14,
      "outputs": [
        {
          "output_type": "stream",
          "name": "stdout",
          "text": [
            "w\n",
            "e\n",
            "e\n",
            "k\n"
          ]
        }
      ]
    },
    {
      "cell_type": "markdown",
      "source": [
        "The range() function"
      ],
      "metadata": {
        "id": "xA_QfyP2vr6C"
      }
    },
    {
      "cell_type": "code",
      "source": [
        "for x in range(6):        #print 6 numbers starting from 0\n",
        "  print(\"Example 1:\", x)\n",
        "\n",
        "for x in range(2, 6):     #6-2=4, print 2 hanggang 5 \n",
        "  print(\"Example 2:\", x)"
      ],
      "metadata": {
        "colab": {
          "base_uri": "https://localhost:8080/"
        },
        "id": "AiQsFZIFvt9n",
        "outputId": "c68b5f40-a082-4c0e-bf10-c848a437b239"
      },
      "execution_count": 22,
      "outputs": [
        {
          "output_type": "stream",
          "name": "stdout",
          "text": [
            "Example 1: 0\n",
            "Example 1: 1\n",
            "Example 1: 2\n",
            "Example 1: 3\n",
            "Example 1: 4\n",
            "Example 1: 5\n",
            "Example 2: 2\n",
            "Example 2: 3\n",
            "Example 2: 4\n",
            "Example 2: 5\n"
          ]
        }
      ]
    },
    {
      "cell_type": "markdown",
      "source": [
        "Nested Loops"
      ],
      "metadata": {
        "id": "jKX94XKcxd0E"
      }
    },
    {
      "cell_type": "code",
      "source": [
        "adjective = [\"red\", \"big\", \"tasty\"]\n",
        "fruits = [\"apple\", \"banana\", \"cherry\"]\n",
        "\n",
        "for x in adjective: \n",
        "  for y in fruits:\n",
        "    print(x,y)      "
      ],
      "metadata": {
        "colab": {
          "base_uri": "https://localhost:8080/"
        },
        "id": "z0tFLj_Jxe_A",
        "outputId": "3fdb959f-a332-45ac-adc5-8330c1855c6c"
      },
      "execution_count": 23,
      "outputs": [
        {
          "output_type": "stream",
          "name": "stdout",
          "text": [
            "red apple\n",
            "red banana\n",
            "red cherry\n",
            "big apple\n",
            "big banana\n",
            "big cherry\n",
            "tasty apple\n",
            "tasty banana\n",
            "tasty cherry\n"
          ]
        }
      ]
    },
    {
      "cell_type": "markdown",
      "source": [
        "##While Loop Statement"
      ],
      "metadata": {
        "id": "3BY-dn9HzB3a"
      }
    },
    {
      "cell_type": "code",
      "source": [
        "i=1\n",
        "while i<6:  #while hindi pa 6\n",
        "  print(i)\n",
        "  i+=1      #i=i+1 para mag add ng 1 at hindi repeat"
      ],
      "metadata": {
        "colab": {
          "base_uri": "https://localhost:8080/"
        },
        "id": "tTCKjud6zU_Y",
        "outputId": "69c37d12-9ff6-43c7-c483-ef437a8d3048"
      },
      "execution_count": 26,
      "outputs": [
        {
          "output_type": "stream",
          "name": "stdout",
          "text": [
            "1\n",
            "2\n",
            "3\n",
            "4\n",
            "5\n"
          ]
        }
      ]
    },
    {
      "cell_type": "markdown",
      "source": [
        "The break statement"
      ],
      "metadata": {
        "id": "Dm0bi2Vz0JJI"
      }
    },
    {
      "cell_type": "code",
      "source": [
        "i=1\n",
        "while i<6:\n",
        "  print(i)\n",
        "  if i==3:  #stop sa 3\n",
        "    break\n",
        "  i+=1      #i=i+1 para mag add ng 1 at hindi repeat\n",
        "            #infinity pag wala nito"
      ],
      "metadata": {
        "colab": {
          "base_uri": "https://localhost:8080/"
        },
        "id": "vj-2IABi0LXj",
        "outputId": "de69761a-7660-43bf-93c8-6a98420b3e95"
      },
      "execution_count": 28,
      "outputs": [
        {
          "output_type": "stream",
          "name": "stdout",
          "text": [
            "1\n",
            "2\n",
            "3\n"
          ]
        }
      ]
    },
    {
      "cell_type": "code",
      "source": [
        "i=1\n",
        "while i<6:\n",
        "  i+=1        #mag start na sa 2 kasi dito\n",
        "  if i==3:    #if naging 3, \n",
        "    continue  #mag continue or next sa 4 hanggang 6\n",
        "  print(i)"
      ],
      "metadata": {
        "colab": {
          "base_uri": "https://localhost:8080/"
        },
        "id": "rUcIeasj1stT",
        "outputId": "17cdcaf6-5872-4c7d-8cd4-cfaa9e1524a5"
      },
      "execution_count": 32,
      "outputs": [
        {
          "output_type": "stream",
          "name": "stdout",
          "text": [
            "2\n",
            "4\n",
            "5\n",
            "6\n"
          ]
        }
      ]
    },
    {
      "cell_type": "markdown",
      "source": [
        "The else statement"
      ],
      "metadata": {
        "id": "phNCnUIn3JeV"
      }
    },
    {
      "cell_type": "code",
      "source": [
        "i=1\n",
        "while i<6:\n",
        "  print(i)\n",
        "  i+=1      #para di mag infinity\n",
        "else:\n",
        "  print(\"i is no longer less than 6\") #kapag hindi na i<6, ito na ipiprint nya"
      ],
      "metadata": {
        "colab": {
          "base_uri": "https://localhost:8080/"
        },
        "id": "n9vCOn-33Ksu",
        "outputId": "ad6cac3e-ee83-439b-c6de-d2530673571c"
      },
      "execution_count": 35,
      "outputs": [
        {
          "output_type": "stream",
          "name": "stdout",
          "text": [
            "1\n",
            "2\n",
            "3\n",
            "4\n",
            "5\n",
            "i is no longer less than 6\n"
          ]
        }
      ]
    },
    {
      "cell_type": "markdown",
      "source": [
        "###Application 1\n",
        "Create a Python program that displays:\n",
        "Hello 0\n",
        "Hello 1\n",
        "Hello 2\n",
        "Hello 3\n",
        "Hello 4\n",
        "Hello 5\n",
        "Hello 6\n",
        "Hello 7\n",
        "Hello 8\n",
        "Hello 9\n",
        "Hello 10 (in vertical)"
      ],
      "metadata": {
        "id": "M-ViTPYM30lj"
      }
    },
    {
      "cell_type": "code",
      "source": [
        "for x in range(11):    \n",
        "  print(\"Hello\", x)"
      ],
      "metadata": {
        "colab": {
          "base_uri": "https://localhost:8080/"
        },
        "id": "4swWiGgu4Hyp",
        "outputId": "9d9e4c01-e173-4168-a77a-7fd741de0406"
      },
      "execution_count": 36,
      "outputs": [
        {
          "output_type": "stream",
          "name": "stdout",
          "text": [
            "Hello 0\n",
            "Hello 1\n",
            "Hello 2\n",
            "Hello 3\n",
            "Hello 4\n",
            "Hello 5\n",
            "Hello 6\n",
            "Hello 7\n",
            "Hello 8\n",
            "Hello 9\n",
            "Hello 10\n"
          ]
        }
      ]
    },
    {
      "cell_type": "code",
      "source": [
        "i=0\n",
        "while i<11:\n",
        "  print(\"Hello\", i)\n",
        "  i+=1"
      ],
      "metadata": {
        "colab": {
          "base_uri": "https://localhost:8080/"
        },
        "id": "CdkI714P46Zc",
        "outputId": "cf25c815-3160-4416-f852-36c408d6da69"
      },
      "execution_count": 40,
      "outputs": [
        {
          "output_type": "stream",
          "name": "stdout",
          "text": [
            "Hello 0\n",
            "Hello 1\n",
            "Hello 2\n",
            "Hello 3\n",
            "Hello 4\n",
            "Hello 5\n",
            "Hello 6\n",
            "Hello 7\n",
            "Hello 8\n",
            "Hello 9\n",
            "Hello 10\n"
          ]
        }
      ]
    },
    {
      "cell_type": "code",
      "source": [
        "hello = [\"Hello 0\", \"Hello 1\", \"Hello 2\", \"Hello 3\", \"Hello 4\", \"Hello 5\", \"Hello 6\", \"Hello 7\", \"Hello 8\", \"Hello 9\", \"Hello 10\"]\n",
        "for x in hello:\n",
        "  print(x)"
      ],
      "metadata": {
        "colab": {
          "base_uri": "https://localhost:8080/"
        },
        "id": "KMd-eQ__4iMo",
        "outputId": "3ad3bb74-7fb7-4c97-e0eb-307f19de4548"
      },
      "execution_count": 37,
      "outputs": [
        {
          "output_type": "stream",
          "name": "stdout",
          "text": [
            "Hello 0\n",
            "Hello 1\n",
            "Hello 2\n",
            "Hello 3\n",
            "Hello 4\n",
            "Hello 5\n",
            "Hello 6\n",
            "Hello 7\n",
            "Hello 8\n",
            "Hello 9\n",
            "Hello 10\n"
          ]
        }
      ]
    },
    {
      "cell_type": "markdown",
      "source": [
        "###Application 2\n",
        "Create a Python program that displays integers less than 10 but not less than 3"
      ],
      "metadata": {
        "id": "vrph2lMk5iSN"
      }
    },
    {
      "cell_type": "code",
      "source": [
        "i=0\n",
        "while i<9:\n",
        "  i+=1\n",
        "  if i<3:\n",
        "    continue\n",
        "  print(i)"
      ],
      "metadata": {
        "colab": {
          "base_uri": "https://localhost:8080/"
        },
        "id": "Gs8atStd8t-J",
        "outputId": "58a53832-21cd-4917-8cfd-119048c27d27"
      },
      "execution_count": 69,
      "outputs": [
        {
          "output_type": "stream",
          "name": "stdout",
          "text": [
            "3\n",
            "4\n",
            "5\n",
            "6\n",
            "7\n",
            "8\n",
            "9\n"
          ]
        }
      ]
    },
    {
      "cell_type": "code",
      "source": [
        "for i in range(3, 10):     \n",
        "  print(i) \n"
      ],
      "metadata": {
        "colab": {
          "base_uri": "https://localhost:8080/"
        },
        "id": "H5w3YWIH5p12",
        "outputId": "6f19de9b-a2f3-4937-a46e-30199974dfe7"
      },
      "execution_count": 60,
      "outputs": [
        {
          "output_type": "stream",
          "name": "stdout",
          "text": [
            "3\n",
            "4\n",
            "5\n",
            "6\n",
            "7\n",
            "8\n",
            "9\n"
          ]
        }
      ]
    },
    {
      "cell_type": "code",
      "source": [
        "i=3\n",
        "while i<10:\n",
        "  print(i)\n",
        "  i+=1"
      ],
      "metadata": {
        "colab": {
          "base_uri": "https://localhost:8080/"
        },
        "id": "QAO1ELF18DHb",
        "outputId": "da26f01b-973a-4a72-db5c-f09feaeb4035"
      },
      "execution_count": 59,
      "outputs": [
        {
          "output_type": "stream",
          "name": "stdout",
          "text": [
            "3\n",
            "4\n",
            "5\n",
            "6\n",
            "7\n",
            "8\n",
            "9\n"
          ]
        }
      ]
    },
    {
      "cell_type": "code",
      "source": [
        "integers = [\"3\", \"4\", \"5\", \"6\", \"7\", \"8\", \"9\"]\n",
        "for i in integers:\n",
        "  print(i)"
      ],
      "metadata": {
        "colab": {
          "base_uri": "https://localhost:8080/"
        },
        "id": "THRgp2k68RDu",
        "outputId": "2e237994-c860-47dc-ea73-6c6dc744d5cf"
      },
      "execution_count": 61,
      "outputs": [
        {
          "output_type": "stream",
          "name": "stdout",
          "text": [
            "3\n",
            "4\n",
            "5\n",
            "6\n",
            "7\n",
            "8\n",
            "9\n"
          ]
        }
      ]
    }
  ]
}