{
  "nbformat": 4,
  "nbformat_minor": 0,
  "metadata": {
    "colab": {
      "name": "Final Exam.ipynb",
      "provenance": [],
      "collapsed_sections": [],
      "authorship_tag": "ABX9TyPU4FcwmuXpTgfabCJpDN5g",
      "include_colab_link": true
    },
    "kernelspec": {
      "name": "python3",
      "display_name": "Python 3"
    },
    "language_info": {
      "name": "python"
    }
  },
  "cells": [
    {
      "cell_type": "markdown",
      "metadata": {
        "id": "view-in-github",
        "colab_type": "text"
      },
      "source": [
        "<a href=\"https://colab.research.google.com/github/FranzLouiseGloriani/CPEN-21A-CPE-1-1/blob/main/Final_Exam.ipynb\" target=\"_parent\"><img src=\"https://colab.research.google.com/assets/colab-badge.svg\" alt=\"Open In Colab\"/></a>"
      ]
    },
    {
      "cell_type": "markdown",
      "source": [
        "##PROBLEM STATEMENT 1.\n",
        "Create a Python program that will produce an output of sum of 10 numbers less than 5 using FOR LOOP statement.\t(30 points)\n"
      ],
      "metadata": {
        "id": "EpTGr4PpgXeV"
      }
    },
    {
      "cell_type": "code",
      "source": [
        "numbers = [-5, -4, -3, -2, -1, 0, 1, 2, 3, 4, 5] #these are my chosen numbers which is less than 5\n",
        "sum = 0\n",
        "\n",
        "for x in numbers:\n",
        "  if x<5:\n",
        "    sum=sum+x\n",
        "print(\"The sum is\", + sum)"
      ],
      "metadata": {
        "colab": {
          "base_uri": "https://localhost:8080/"
        },
        "id": "6wNPk0KYgYyV",
        "outputId": "09a94ded-3cfb-4d12-bdac-ee3798e7e92c"
      },
      "execution_count": null,
      "outputs": [
        {
          "output_type": "stream",
          "name": "stdout",
          "text": [
            "The sum is -5\n"
          ]
        }
      ]
    },
    {
      "cell_type": "markdown",
      "source": [
        "##PROBLEM STATEMENT 2.\n",
        "Create a Python program that will produce accept five numbers and determine the sum of first and last number among the five numbers entered using WHILE LOOP. (35 points)\n"
      ],
      "metadata": {
        "id": "pOCJgjw4gfrH"
      }
    },
    {
      "cell_type": "code",
      "source": [
        "num1 = int(input(\"Enter the first number:\"))\n",
        "num2 = int(input(\"Enter the second number:\"))\n",
        "num3 = int(input(\"Enter the third number:\"))\n",
        "num4 = int(input(\"Enter the fourth number:\"))\n",
        "num5 = int(input(\"Enter the fifth number:\"))\n",
        "numbers = [num1, num2, num3, num4, num5]\n",
        "sum = 0\n",
        "\n",
        "while sum==0:\n",
        "  sum=num1+num5\n",
        "  print(\"The sum of first and last number is\", + sum)\n",
        "  if sum==0:\n",
        "    break"
      ],
      "metadata": {
        "colab": {
          "base_uri": "https://localhost:8080/"
        },
        "id": "GLhsKcolgr1j",
        "outputId": "394d701c-e959-4726-e587-cbf84c5ad194"
      },
      "execution_count": 2,
      "outputs": [
        {
          "output_type": "stream",
          "name": "stdout",
          "text": [
            "Enter the first number:1\n",
            "Enter the second number:2\n",
            "Enter the third number:3\n",
            "Enter the fourth number:4\n",
            "Enter the fifth number:5\n",
            "The sum of first and last number is 6\n"
          ]
        }
      ]
    },
    {
      "cell_type": "markdown",
      "source": [
        "##PROBLEM STATEMENT 3.\n",
        "Create a Python program to calculate student grades. It accepts a numerical grade as input and it will display the character grade as output based on the given scale: (Use Nested-IF-Else statement)\t(35 points)\n",
        "Range\n",
        "Grade\n",
        "90 and above\n",
        "A\n",
        "90-89\n",
        "B\n",
        "70-79\n",
        "C\n",
        "60-69\n",
        "D\n",
        "Below 60\n",
        "F\n",
        "\n",
        "\n"
      ],
      "metadata": {
        "id": "GAtTmKB1ggJJ"
      }
    },
    {
      "cell_type": "code",
      "source": [
        "grade = int(input(\"Enter a grade:\"))\n",
        "\n",
        "if grade>=90:\n",
        "  print(\"A\")\n",
        "elif grade>79 and grade<90:\n",
        "  print(\"B\")\n",
        "elif grade>69 and grade<80:\n",
        "  print(\"C\")\n",
        "elif grade>59 and grade<70:\n",
        "  print(\"D\")\n",
        "else:\n",
        "  print(\"F\")"
      ],
      "metadata": {
        "colab": {
          "base_uri": "https://localhost:8080/"
        },
        "id": "eRc_W43TgsZo",
        "outputId": "dc8d85c9-0f88-45c0-b598-f4df6de4942e"
      },
      "execution_count": null,
      "outputs": [
        {
          "output_type": "stream",
          "name": "stdout",
          "text": [
            "Enter a grade:100\n",
            "A\n"
          ]
        }
      ]
    }
  ]
}