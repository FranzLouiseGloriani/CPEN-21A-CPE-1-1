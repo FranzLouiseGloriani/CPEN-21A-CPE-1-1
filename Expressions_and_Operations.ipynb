{
  "nbformat": 4,
  "nbformat_minor": 0,
  "metadata": {
    "colab": {
      "name": "Expressions and Operations.ipynb",
      "provenance": [],
      "collapsed_sections": [],
      "authorship_tag": "ABX9TyM/GJXp9T2d2798t4QJ/j28",
      "include_colab_link": true
    },
    "kernelspec": {
      "name": "python3",
      "display_name": "Python 3"
    },
    "language_info": {
      "name": "python"
    }
  },
  "cells": [
    {
      "cell_type": "markdown",
      "metadata": {
        "id": "view-in-github",
        "colab_type": "text"
      },
      "source": [
        "<a href=\"https://colab.research.google.com/github/FranzLouiseGloriani/CPEN-21A-CPE-1-1/blob/main/Expressions_and_Operations.ipynb\" target=\"_parent\"><img src=\"https://colab.research.google.com/assets/colab-badge.svg\" alt=\"Open In Colab\"/></a>"
      ]
    },
    {
      "cell_type": "markdown",
      "metadata": {
        "id": "vkP53cBqgJrL"
      },
      "source": [
        "##Boolean Opeartors\n",
        "Booleans represent one of two values: True or False"
      ]
    },
    {
      "cell_type": "code",
      "metadata": {
        "colab": {
          "base_uri": "https://localhost:8080/"
        },
        "id": "nOvl4nEaf_Ub",
        "outputId": "5c15bc11-f48b-4d6b-d003-35e308dca62c"
      },
      "source": [
        "print(10>9)\n",
        "print(10<9)\n",
        "print(10==9)\n",
        "print(10!=9)\n",
        "\n",
        "print(10>10)\n",
        "print(10<10)\n",
        "print(10==10)\n",
        "print(10!=10)"
      ],
      "execution_count": 3,
      "outputs": [
        {
          "output_type": "stream",
          "name": "stdout",
          "text": [
            "True\n",
            "False\n",
            "False\n",
            "True\n",
            "False\n",
            "False\n",
            "True\n",
            "False\n"
          ]
        }
      ]
    },
    {
      "cell_type": "code",
      "metadata": {
        "colab": {
          "base_uri": "https://localhost:8080/"
        },
        "id": "Y2hGQpJlhGS5",
        "outputId": "b626bbb6-1b09-4206-b62a-e349a759611d"
      },
      "source": [
        "print(bool(True))\n",
        "print(bool(False))\n",
        "print(bool(1.1))\n",
        "print(bool(1))\n",
        "print(bool(0))\n",
        "print(bool(-1))\n",
        "print(bool(-1.1))\n",
        "print(bool(None))\n",
        "print(bool(\"\"))\n",
        "print(bool(()))\n",
        "print(bool({}))\n",
        "print(bool([]))\n"
      ],
      "execution_count": 29,
      "outputs": [
        {
          "output_type": "stream",
          "name": "stdout",
          "text": [
            "True\n",
            "False\n",
            "True\n",
            "True\n",
            "False\n",
            "True\n",
            "True\n",
            "False\n",
            "False\n",
            "False\n",
            "False\n",
            "False\n"
          ]
        }
      ]
    },
    {
      "cell_type": "code",
      "metadata": {
        "colab": {
          "base_uri": "https://localhost:8080/"
        },
        "id": "QfexNL-Thovb",
        "outputId": "c856d9df-0265-4fc1-b316-c754c72aca61"
      },
      "source": [
        "def myFunction(): \n",
        "  return True\n",
        "print(myFunction())\n",
        "\n",
        "def myFunction1():\n",
        "  return False\n",
        "print(myFunction1())\n",
        "\n",
        "def myFunction():\n",
        "  return True\n",
        "if myFunction():\n",
        "  print(\"Yes!\")\n",
        "else:\n",
        "  print(\"No!\")\n",
        "\n",
        "def myFunction1():\n",
        "  return True\n",
        "if myFunction1():\n",
        "  print(\"Yes!\")\n",
        "else:\n",
        "  print(\"No!\")"
      ],
      "execution_count": 28,
      "outputs": [
        {
          "output_type": "stream",
          "name": "stdout",
          "text": [
            "True\n",
            "False\n",
            "Yes!\n",
            "Yes!\n"
          ]
        }
      ]
    },
    {
      "cell_type": "code",
      "metadata": {
        "colab": {
          "base_uri": "https://localhost:8080/"
        },
        "id": "iB7DdN5CixYQ",
        "outputId": "2eac18a9-607c-46c4-b20c-a95f0f6596bc"
      },
      "source": [
        "a=6\n",
        "b=7\n",
        "\n",
        "print(a==b) #is it equal?\n",
        "print(a!=b) #is it not equal?\n",
        "print(a>b)  #is it greater than?\n",
        "print(a<b)  #is it less than?"
      ],
      "execution_count": 24,
      "outputs": [
        {
          "output_type": "stream",
          "name": "stdout",
          "text": [
            "False\n",
            "True\n",
            "False\n",
            "True\n"
          ]
        }
      ]
    },
    {
      "cell_type": "markdown",
      "metadata": {
        "id": "1lu9cH07jus7"
      },
      "source": [
        "##Python Operators"
      ]
    },
    {
      "cell_type": "code",
      "metadata": {
        "colab": {
          "base_uri": "https://localhost:8080/"
        },
        "id": "6rsgebR0jxif",
        "outputId": "7984252a-1ab8-4bb9-fca3-48a421879c5b"
      },
      "source": [
        "print(10+5)   #addition\n",
        "print(10-5)   #substraction\n",
        "print(10*5)   #multiplication\n",
        "print(10/5)   #division\n",
        "print(10/4)\n",
        "print(10/3)\n",
        "print(10//5)  #floor division\n",
        "print(10//4)  \n",
        "print(10//3)  \n",
        "print(10%5)   #modulo\n",
        "print(10%4)   \n",
        "print(10**5)  #concatenation  10^3\n",
        "print(10**4)                  10^4"
      ],
      "execution_count": 39,
      "outputs": [
        {
          "output_type": "stream",
          "name": "stdout",
          "text": [
            "15\n",
            "5\n",
            "50\n",
            "2.0\n",
            "2.5\n",
            "3.3333333333333335\n",
            "2\n",
            "2\n",
            "3\n",
            "0\n",
            "2\n",
            "100000\n",
            "10000\n"
          ]
        }
      ]
    },
    {
      "cell_type": "markdown",
      "metadata": {
        "id": "5oh9DCZOlGeZ"
      },
      "source": [
        "##Python Bitwise Operators"
      ]
    },
    {
      "cell_type": "code",
      "metadata": {
        "colab": {
          "base_uri": "https://localhost:8080/"
        },
        "id": "typcmII5lxcr",
        "outputId": "f2f821e1-eaf3-405f-9e81-7154a9d50e85"
      },
      "source": [
        "          #MSB  #LSB\n",
        "a = 60    #0011 1100, if a(<<1) then 0111 1000, if a(<<2) then 1111 0000\n",
        "b = 13    #0000 1101, if a(>>1) then0001 1000, if a(>>2) then 0011 0000\n",
        "\n",
        "print(a&b) #Operator copies a bit, to the result, if it exists in both operands\n",
        "              #0000 1100 Kung both operands ay may bit\n",
        "print(a|b) #It copies a bit, if it exists in either expand.\n",
        "              #0011 1101 Kung either sa dalawang operands\n",
        "print(a^b) #It copies the bit, if it set in one operand but not both\n",
        "              #0011 0001 Kung if sa isang operand lang\n",
        "#print(a~b) #It is unary and has the effect of 'flipping' bits\n",
        "\n",
        "print(a<<1) #The left operand's value is moved left by the number of bits specified by the right operand\n",
        "print(a<<2)    \n",
        "print(a>>1) #The left operand's value is moved right by the number of bits specified by the right operand\n",
        "print(a>>2)"
      ],
      "execution_count": 77,
      "outputs": [
        {
          "output_type": "stream",
          "name": "stdout",
          "text": [
            "12\n",
            "61\n",
            "49\n",
            "120\n",
            "240\n",
            "30\n",
            "15\n"
          ]
        }
      ]
    },
    {
      "cell_type": "markdown",
      "metadata": {
        "id": "EXR_6XlWqA3m"
      },
      "source": [
        "##Python Assignment Operators"
      ]
    },
    {
      "cell_type": "code",
      "metadata": {
        "colab": {
          "base_uri": "https://localhost:8080/"
        },
        "id": "twNhkwxwqFam",
        "outputId": "efb07fe6-4b30-4ffb-c552-f5f70dda8bb4"
      },
      "source": [
        "a=60 #can not to write if same value before\n",
        "b=13\n",
        "a+=2  #60+2=62\n",
        "print(a)"
      ],
      "execution_count": 70,
      "outputs": [
        {
          "output_type": "stream",
          "name": "stdout",
          "text": [
            "62\n"
          ]
        }
      ]
    },
    {
      "cell_type": "markdown",
      "metadata": {
        "id": "hm-S6H-oqu-K"
      },
      "source": [
        "##Logical Operators"
      ]
    },
    {
      "cell_type": "code",
      "metadata": {
        "colab": {
          "base_uri": "https://localhost:8080/"
        },
        "id": "LcTNJHgDqxng",
        "outputId": "90668fc3-57d1-4b73-ceb3-17cfa9fca40f"
      },
      "source": [
        "a=True\n",
        "b=False\n",
        "print(a and b)\n",
        "print(a or b)\n",
        "print(not(a and b))\n",
        "\n"
      ],
      "execution_count": 80,
      "outputs": [
        {
          "output_type": "stream",
          "name": "stdout",
          "text": [
            "False\n",
            "True\n",
            "True\n",
            "True\n",
            "True\n"
          ]
        }
      ]
    },
    {
      "cell_type": "code",
      "metadata": {
        "colab": {
          "base_uri": "https://localhost:8080/"
        },
        "id": "Ol-QKO_Ush-u",
        "outputId": "872eb98c-a55d-4d1e-97b6-67c8155b741d"
      },
      "source": [
        "a=bool(60)\n",
        "b=bool(13)\n",
        "print(a and b)\n",
        "print(a or b)\n",
        "print(not(a and b))"
      ],
      "execution_count": 83,
      "outputs": [
        {
          "output_type": "stream",
          "name": "stdout",
          "text": [
            "True\n",
            "True\n",
            "False\n"
          ]
        }
      ]
    },
    {
      "cell_type": "code",
      "metadata": {
        "colab": {
          "base_uri": "https://localhost:8080/"
        },
        "id": "xyopkQ6cskBg",
        "outputId": "56875e22-39eb-474f-d4ab-30c75c5bc160"
      },
      "source": [
        "a=60\n",
        "b=13\n",
        "\n",
        "(a>b) and (a<b)\n",
        "(a>b) or (a>b)\n",
        "not(a>b)"
      ],
      "execution_count": 87,
      "outputs": [
        {
          "output_type": "stream",
          "name": "stdout",
          "text": [
            "False\n",
            "True\n"
          ]
        }
      ]
    },
    {
      "cell_type": "markdown",
      "metadata": {
        "id": "0PxembIMtbR_"
      },
      "source": [
        "##Identity Operators"
      ]
    },
    {
      "cell_type": "code",
      "metadata": {
        "colab": {
          "base_uri": "https://localhost:8080/"
        },
        "id": "kDZdLjextSBn",
        "outputId": "3cf262fb-59f9-46e1-a9a7-e04129a50d53"
      },
      "source": [
        "a=60\n",
        "b=13\n",
        "\n",
        "print(a is b)\n",
        "print(a is not b)"
      ],
      "execution_count": 88,
      "outputs": [
        {
          "output_type": "stream",
          "name": "stdout",
          "text": [
            "False\n",
            "True\n"
          ]
        }
      ]
    }
  ]
}