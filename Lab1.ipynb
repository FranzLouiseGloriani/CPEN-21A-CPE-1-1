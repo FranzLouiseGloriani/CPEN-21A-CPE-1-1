{
  "nbformat": 4,
  "nbformat_minor": 0,
  "metadata": {
    "colab": {
      "name": "Lab1.ipynb",
      "provenance": [],
      "collapsed_sections": [],
      "authorship_tag": "ABX9TyMlH0txyPOmEwMMqmngPP4d",
      "include_colab_link": true
    },
    "kernelspec": {
      "name": "python3",
      "display_name": "Python 3"
    },
    "language_info": {
      "name": "python"
    }
  },
  "cells": [
    {
      "cell_type": "markdown",
      "metadata": {
        "id": "view-in-github",
        "colab_type": "text"
      },
      "source": [
        "<a href=\"https://colab.research.google.com/github/FranzLouiseGloriani/CPEN-21A-CPE-1-1/blob/main/Lab1.ipynb\" target=\"_parent\"><img src=\"https://colab.research.google.com/assets/colab-badge.svg\" alt=\"Open In Colab\"/></a>"
      ]
    },
    {
      "cell_type": "markdown",
      "metadata": {
        "id": "em7SABUBVS35"
      },
      "source": [
        "# A Python Program that displays \"Welcome to Python Programming\""
      ]
    },
    {
      "cell_type": "code",
      "metadata": {
        "colab": {
          "base_uri": "https://localhost:8080/"
        },
        "id": "xNpB5zt9Vkhh",
        "outputId": "b1eb3667-ac1e-4d46-d579-96193614adf5"
      },
      "source": [
        "print(\"Welcome to Python Programming\")"
      ],
      "execution_count": 17,
      "outputs": [
        {
          "output_type": "stream",
          "name": "stdout",
          "text": [
            "Welcome to Python Programming\n"
          ]
        }
      ]
    },
    {
      "cell_type": "markdown",
      "metadata": {
        "id": "IuQxT1EeVjSQ"
      },
      "source": [
        "# A Python Program that allows you to output your name, address, and age to an appropriate structure."
      ]
    },
    {
      "cell_type": "code",
      "metadata": {
        "colab": {
          "base_uri": "https://localhost:8080/"
        },
        "id": "1FSpD_NKVmyX",
        "outputId": "60cec893-bd22-4121-d207-ba2ae2abe5d3"
      },
      "source": [
        "name = input('Enter your name: ')\n",
        "address = input('Enter your address: ')\n",
        "age = input('Enter your age: ')\n",
        "\n",
        "print(\"Hi I am\" + \" \" + name + \". \" + \"I live in\" + \" \" + address + \". \" + \"Currently, I am\" + \" \" + str(age) + \" \" + \"years old.\") \n",
        "\n",
        "#My Input\n",
        "name = \"Franz\"\n",
        "address = \"General Emilio Aguinaldo (Bailen), Cavite\"\n",
        "age = 18\n",
        "\n",
        "print(\"Hi I am\" + \" \" + name + \". \" + \"I live in\" + \" \" + address + \". \" + \"Currently, I am\" + \" \" + str(age) + \" \" + \"years old.\") "
      ],
      "execution_count": 18,
      "outputs": [
        {
          "output_type": "stream",
          "name": "stdout",
          "text": [
            "Enter your name: Franz\n",
            "Enter your address: Bailen, Cavite\n",
            "Enter your age: 18\n",
            "Hi I am Franz. I live in Bailen, Cavite. Currently, I am 18 years old.\n",
            "Hi I am Franz. I live in General Emilio Aguinaldo (Bailen), Cavite. Currently, I am 18 years old.\n"
          ]
        }
      ]
    }
  ]
}