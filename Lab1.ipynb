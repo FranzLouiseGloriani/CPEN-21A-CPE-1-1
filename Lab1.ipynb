{
  "nbformat": 4,
  "nbformat_minor": 0,
  "metadata": {
    "colab": {
      "name": "Lab1.ipynb",
      "provenance": [],
      "collapsed_sections": [],
      "authorship_tag": "ABX9TyPLRRe84VbjJQwfJLAiBytW",
      "include_colab_link": true
    },
    "kernelspec": {
      "name": "python3",
      "display_name": "Python 3"
    },
    "language_info": {
      "name": "python"
    }
  },
  "cells": [
    {
      "cell_type": "markdown",
      "metadata": {
        "id": "view-in-github",
        "colab_type": "text"
      },
      "source": [
        "<a href=\"https://colab.research.google.com/github/FranzLouiseGloriani/CPEN-21A-CPE-1-1/blob/main/Lab1.ipynb\" target=\"_parent\"><img src=\"https://colab.research.google.com/assets/colab-badge.svg\" alt=\"Open In Colab\"/></a>"
      ]
    },
    {
      "cell_type": "markdown",
      "metadata": {
        "id": "em7SABUBVS35"
      },
      "source": [
        "# A Python Program that displays \"Welcome to Python Programming\""
      ]
    },
    {
      "cell_type": "code",
      "metadata": {
        "colab": {
          "base_uri": "https://localhost:8080/"
        },
        "id": "xNpB5zt9Vkhh",
        "outputId": "eca9f2b7-0187-44ca-ba75-bde0a2c23524"
      },
      "source": [
        "print(\"Welcome to Python Programming\")"
      ],
      "execution_count": 2,
      "outputs": [
        {
          "output_type": "stream",
          "name": "stdout",
          "text": [
            "Welcome to Python Programming\n"
          ]
        }
      ]
    },
    {
      "cell_type": "markdown",
      "metadata": {
        "id": "IuQxT1EeVjSQ"
      },
      "source": [
        "# A Python Program that allows you to ouput your name, address, and age to an appropriate structure."
      ]
    },
    {
      "cell_type": "code",
      "metadata": {
        "colab": {
          "base_uri": "https://localhost:8080/"
        },
        "id": "1FSpD_NKVmyX",
        "outputId": "fa45377a-3365-4bae-cbdf-486dbe3cbc3f"
      },
      "source": [
        "name = \"Franz\"\n",
        "address = \"General Emilio Aguinaldo (Bailen), Cavite\"\n",
        "age = 18\n",
        "\n",
        "print(\"Hi I am\" + \" \" + name + \". \" + \"I live in\" + \" \" + address + \". \" + \"Currently, I am\" + \" \" + str(age) + \" \" + \"years old.\") "
      ],
      "execution_count": 13,
      "outputs": [
        {
          "output_type": "stream",
          "name": "stdout",
          "text": [
            "Hi I am Franz. I live in General Emilio Aguinaldo (Bailen), Cavite. Currently, I am 18 years old.\n"
          ]
        }
      ]
    }
  ]
}